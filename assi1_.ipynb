{
  "nbformat": 4,
  "nbformat_minor": 0,
  "metadata": {
    "colab": {
      "provenance": [],
      "authorship_tag": "ABX9TyOlpMspOU9PiWvDsc3YUIjT",
      "include_colab_link": true
    },
    "kernelspec": {
      "name": "python3",
      "display_name": "Python 3"
    },
    "language_info": {
      "name": "python"
    }
  },
  "cells": [
    {
      "cell_type": "markdown",
      "metadata": {
        "id": "view-in-github",
        "colab_type": "text"
      },
      "source": [
        "<a href=\"https://colab.research.google.com/github/Deepanshu2601/cognitive_computing-/blob/main/assi1_.ipynb\" target=\"_parent\"><img src=\"https://colab.research.google.com/assets/colab-badge.svg\" alt=\"Open In Colab\"/></a>"
      ]
    },
    {
      "cell_type": "code",
      "execution_count": 1,
      "metadata": {
        "colab": {
          "base_uri": "https://localhost:8080/"
        },
        "id": "jB8xrY4fzC81",
        "outputId": "f6df0820-e258-44be-9526-755cbc2bb98e"
      },
      "outputs": [
        {
          "output_type": "stream",
          "name": "stdout",
          "text": [
            "deeapnshu jindal\n"
          ]
        }
      ],
      "source": [
        "print(\"deeapnshu jindal\")"
      ]
    },
    {
      "cell_type": "code",
      "source": [
        "x=2+3\n",
        "y=\"deepanshu \" + \" jindal\"\n",
        "z=\"sem \" + str(4)\n",
        "print(x)\n",
        "print(y)\n",
        "print(z)"
      ],
      "metadata": {
        "colab": {
          "base_uri": "https://localhost:8080/"
        },
        "id": "yA0-VDiE2aCf",
        "outputId": "f39a5eac-bf6d-4994-8fc9-76095d427055"
      },
      "execution_count": 9,
      "outputs": [
        {
          "output_type": "stream",
          "name": "stdout",
          "text": [
            "5\n",
            "deepanshu  jindal\n",
            "sem 4\n"
          ]
        }
      ]
    },
    {
      "cell_type": "code",
      "source": [
        "x=int(input(\"enter numeber\"))\n",
        "if(x==0):\n",
        "  print(\"zero\")\n",
        "elif(x>0):\n",
        "    print(\"positive number\")\n",
        "elif(x<0):\n",
        "    print(\"negative number\")\n",
        "\n",
        "if(x%2==0):\n",
        "    print(\"number is even\")\n",
        "else:\n",
        "    print(\"number is odd\")"
      ],
      "metadata": {
        "colab": {
          "base_uri": "https://localhost:8080/"
        },
        "id": "1mgRq5n85k0e",
        "outputId": "bea6fc5f-b1ba-4bcd-f6cb-1383b636768b"
      },
      "execution_count": 13,
      "outputs": [
        {
          "output_type": "stream",
          "name": "stdout",
          "text": [
            "enter numeber5\n",
            "positive number\n",
            "number is odd\n"
          ]
        }
      ]
    },
    {
      "cell_type": "code",
      "source": [
        "\n",
        "for i in range (1,11):\n",
        "  print(i)\n",
        "\n"
      ],
      "metadata": {
        "colab": {
          "base_uri": "https://localhost:8080/"
        },
        "id": "9WU5_0HzApSc",
        "outputId": "ec02f160-8015-4b96-933f-61bf566fa16d"
      },
      "execution_count": 34,
      "outputs": [
        {
          "output_type": "stream",
          "name": "stdout",
          "text": [
            "1\n",
            "2\n",
            "3\n",
            "4\n",
            "5\n",
            "6\n",
            "7\n",
            "8\n",
            "9\n",
            "10\n"
          ]
        }
      ]
    },
    {
      "cell_type": "code",
      "source": [
        "i = 1\n",
        "while i <= 10:\n",
        "  print(i)\n",
        "  i += 1\n"
      ],
      "metadata": {
        "colab": {
          "base_uri": "https://localhost:8080/"
        },
        "id": "FQblzorWUN6K",
        "outputId": "72b7332c-59fb-47a6-f0e0-3402dd8ecdb6"
      },
      "execution_count": 30,
      "outputs": [
        {
          "output_type": "stream",
          "name": "stdout",
          "text": [
            "1\n",
            "2\n",
            "3\n",
            "4\n",
            "5\n",
            "6\n",
            "7\n",
            "8\n",
            "9\n",
            "10\n"
          ]
        }
      ]
    },
    {
      "cell_type": "code",
      "source": [
        "sum_number=0\n",
        "for num in range(1,101):\n",
        "    sum_number += i\n",
        "\n",
        "    print(\"the sum of number from 1 to 100 is :\",sum_number)"
      ],
      "metadata": {
        "colab": {
          "base_uri": "https://localhost:8080/"
        },
        "id": "nVN14o8ZTw0F",
        "outputId": "1eadbc82-58be-4338-96b2-94d2f817f71d"
      },
      "execution_count": 33,
      "outputs": [
        {
          "output_type": "stream",
          "name": "stdout",
          "text": [
            "the sum of number from 1 to 100 is : 11\n",
            "the sum of number from 1 to 100 is : 22\n",
            "the sum of number from 1 to 100 is : 33\n",
            "the sum of number from 1 to 100 is : 44\n",
            "the sum of number from 1 to 100 is : 55\n",
            "the sum of number from 1 to 100 is : 66\n",
            "the sum of number from 1 to 100 is : 77\n",
            "the sum of number from 1 to 100 is : 88\n",
            "the sum of number from 1 to 100 is : 99\n",
            "the sum of number from 1 to 100 is : 110\n",
            "the sum of number from 1 to 100 is : 121\n",
            "the sum of number from 1 to 100 is : 132\n",
            "the sum of number from 1 to 100 is : 143\n",
            "the sum of number from 1 to 100 is : 154\n",
            "the sum of number from 1 to 100 is : 165\n",
            "the sum of number from 1 to 100 is : 176\n",
            "the sum of number from 1 to 100 is : 187\n",
            "the sum of number from 1 to 100 is : 198\n",
            "the sum of number from 1 to 100 is : 209\n",
            "the sum of number from 1 to 100 is : 220\n",
            "the sum of number from 1 to 100 is : 231\n",
            "the sum of number from 1 to 100 is : 242\n",
            "the sum of number from 1 to 100 is : 253\n",
            "the sum of number from 1 to 100 is : 264\n",
            "the sum of number from 1 to 100 is : 275\n",
            "the sum of number from 1 to 100 is : 286\n",
            "the sum of number from 1 to 100 is : 297\n",
            "the sum of number from 1 to 100 is : 308\n",
            "the sum of number from 1 to 100 is : 319\n",
            "the sum of number from 1 to 100 is : 330\n",
            "the sum of number from 1 to 100 is : 341\n",
            "the sum of number from 1 to 100 is : 352\n",
            "the sum of number from 1 to 100 is : 363\n",
            "the sum of number from 1 to 100 is : 374\n",
            "the sum of number from 1 to 100 is : 385\n",
            "the sum of number from 1 to 100 is : 396\n",
            "the sum of number from 1 to 100 is : 407\n",
            "the sum of number from 1 to 100 is : 418\n",
            "the sum of number from 1 to 100 is : 429\n",
            "the sum of number from 1 to 100 is : 440\n",
            "the sum of number from 1 to 100 is : 451\n",
            "the sum of number from 1 to 100 is : 462\n",
            "the sum of number from 1 to 100 is : 473\n",
            "the sum of number from 1 to 100 is : 484\n",
            "the sum of number from 1 to 100 is : 495\n",
            "the sum of number from 1 to 100 is : 506\n",
            "the sum of number from 1 to 100 is : 517\n",
            "the sum of number from 1 to 100 is : 528\n",
            "the sum of number from 1 to 100 is : 539\n",
            "the sum of number from 1 to 100 is : 550\n",
            "the sum of number from 1 to 100 is : 561\n",
            "the sum of number from 1 to 100 is : 572\n",
            "the sum of number from 1 to 100 is : 583\n",
            "the sum of number from 1 to 100 is : 594\n",
            "the sum of number from 1 to 100 is : 605\n",
            "the sum of number from 1 to 100 is : 616\n",
            "the sum of number from 1 to 100 is : 627\n",
            "the sum of number from 1 to 100 is : 638\n",
            "the sum of number from 1 to 100 is : 649\n",
            "the sum of number from 1 to 100 is : 660\n",
            "the sum of number from 1 to 100 is : 671\n",
            "the sum of number from 1 to 100 is : 682\n",
            "the sum of number from 1 to 100 is : 693\n",
            "the sum of number from 1 to 100 is : 704\n",
            "the sum of number from 1 to 100 is : 715\n",
            "the sum of number from 1 to 100 is : 726\n",
            "the sum of number from 1 to 100 is : 737\n",
            "the sum of number from 1 to 100 is : 748\n",
            "the sum of number from 1 to 100 is : 759\n",
            "the sum of number from 1 to 100 is : 770\n",
            "the sum of number from 1 to 100 is : 781\n",
            "the sum of number from 1 to 100 is : 792\n",
            "the sum of number from 1 to 100 is : 803\n",
            "the sum of number from 1 to 100 is : 814\n",
            "the sum of number from 1 to 100 is : 825\n",
            "the sum of number from 1 to 100 is : 836\n",
            "the sum of number from 1 to 100 is : 847\n",
            "the sum of number from 1 to 100 is : 858\n",
            "the sum of number from 1 to 100 is : 869\n",
            "the sum of number from 1 to 100 is : 880\n",
            "the sum of number from 1 to 100 is : 891\n",
            "the sum of number from 1 to 100 is : 902\n",
            "the sum of number from 1 to 100 is : 913\n",
            "the sum of number from 1 to 100 is : 924\n",
            "the sum of number from 1 to 100 is : 935\n",
            "the sum of number from 1 to 100 is : 946\n",
            "the sum of number from 1 to 100 is : 957\n",
            "the sum of number from 1 to 100 is : 968\n",
            "the sum of number from 1 to 100 is : 979\n",
            "the sum of number from 1 to 100 is : 990\n",
            "the sum of number from 1 to 100 is : 1001\n",
            "the sum of number from 1 to 100 is : 1012\n",
            "the sum of number from 1 to 100 is : 1023\n",
            "the sum of number from 1 to 100 is : 1034\n",
            "the sum of number from 1 to 100 is : 1045\n",
            "the sum of number from 1 to 100 is : 1056\n",
            "the sum of number from 1 to 100 is : 1067\n",
            "the sum of number from 1 to 100 is : 1078\n",
            "the sum of number from 1 to 100 is : 1089\n",
            "the sum of number from 1 to 100 is : 1100\n"
          ]
        }
      ]
    },
    {
      "cell_type": "code",
      "source": [
        "x=[1,2,3,4,5]\n",
        "print(\"max:\",max(x))\n",
        "print(\"min:\",min(x))\n",
        "\n",
        "dict1={1:\"one\",2:\"two\",3:\"three\"}\n",
        "x =eval(input(\"enter the key:\"))\n",
        "print (\"Value:\",dict1[x])\n",
        "\n",
        "list1=[25,34,22,66,32,102,91]\n",
        "list.sort()\n",
        "print(\"sorted list in ascending order:\",list1)\n",
        "list1.sort(reverse = True)\n",
        "print(\"sorted list in descending order:\",list1)\n",
        "\n",
        "dict2={4:\"five\",5:\"five\",6:\"six\"}\n",
        "dict1.update(dict2)\n",
        "print(dict1)"
      ],
      "metadata": {
        "colab": {
          "base_uri": "https://localhost:8080/"
        },
        "id": "t5V2IGLBETcL",
        "outputId": "f69ffd2b-bf0e-413e-be5c-1557764f1c7d"
      },
      "execution_count": null,
      "outputs": [
        {
          "metadata": {
            "tags": null
          },
          "name": "stdout",
          "output_type": "stream",
          "text": [
            "max: 5\n",
            "min: 1\n"
          ]
        }
      ]
    },
    {
      "cell_type": "code",
      "source": [
        "string= input(\"enter a string:\")\n",
        "vowels=\"aeiou\"\n",
        "vowel_count =0\n",
        "for char in string:\n",
        "  if char in vowels:\n",
        "    vowel_count +=1\n",
        "    print(\"number of vowels in the string:\",vowel_count)\n",
        "\n",
        "string = input(\"enter a string:\")\n",
        "reversed_string=string[::-1]\n",
        "print(\"reversed string:\",reversed_string)\n",
        "\n",
        "string=input(\"enter a string\")\n",
        "revstr=string[::-1]\n",
        "if(revstr==string):\n",
        "  print(\"enter string in palindrome\")\n",
        "else:\n",
        "  print(\"enter string is not palindrome\")"
      ],
      "metadata": {
        "colab": {
          "base_uri": "https://localhost:8080/"
        },
        "id": "3VlDDBq0HkGv",
        "outputId": "a8dffc60-ecaa-4793-b01d-1dbee226cedd"
      },
      "execution_count": 23,
      "outputs": [
        {
          "output_type": "stream",
          "name": "stdout",
          "text": [
            "enter a string:a\n",
            "number of vowels in the string: 1\n",
            "enter a string:a\n",
            "reversed string: a\n",
            "enter a stringe\n",
            "enter string in palindrome\n"
          ]
        }
      ]
    },
    {
      "cell_type": "code",
      "source": [
        "file=open(\"file.txt\",\"w\")\n",
        "\n",
        "file.write(\"C.C\\n\")\n",
        "print(\"data written\")\n",
        "file.close()\n",
        "\n",
        "file=open(\"file.txt\",\"r\")\n",
        "print(file.read())\n",
        "file.close()\n",
        "\n",
        "file=open(\"file.txt\",\"a\")\n",
        "file.write(\"sem 4\\n\")\n",
        "file.close()\n",
        "\n",
        "file=open(\"file.txt\",\"r\")\n",
        "print(file.read())\n",
        "file.close()\n",
        "\n",
        "\n",
        "file=open(\"file.txt\",\"r\")\n",
        "print(\"number of lines:\",len(file.readlines()))\n",
        "file.close()"
      ],
      "metadata": {
        "colab": {
          "base_uri": "https://localhost:8080/"
        },
        "id": "KOVte-h_PiMT",
        "outputId": "f2c0bad3-b4d4-4134-a9a0-20d81eb90531"
      },
      "execution_count": 28,
      "outputs": [
        {
          "output_type": "stream",
          "name": "stdout",
          "text": [
            "data written\n",
            "C.C\n",
            "\n",
            "C.C\n",
            "sem 4\n",
            "\n",
            "number of lines: 2\n"
          ]
        }
      ]
    },
    {
      "cell_type": "code",
      "source": [
        "x=int(input(\"enter a number:\"))\n",
        "y=int(input(\"enter a number:\"))\n",
        "\n",
        "try:\n",
        "  result=x/y\n",
        "  print(\"result:\",result)\n",
        "except:\n",
        "  print(\"zero division error\")\n",
        "\n",
        "try:\n",
        "  num=int(input(\"enter a number:\"))\n",
        "  print(\"valid\")\n",
        "except:\n",
        "  print(\"you didnt enter a number\")\n",
        "\n",
        "\n",
        "try:\n",
        "  num=int(input(\"enter a number to divide 15:\"))\n",
        "  res=15/num\n",
        "except:\n",
        "  print(\"zero division error\")\n",
        "else:\n",
        "  print(\"result:\",res)\n",
        "finally:\n",
        "  print(\"done\")\n"
      ],
      "metadata": {
        "colab": {
          "base_uri": "https://localhost:8080/"
        },
        "id": "iOS0FDbEMoRa",
        "outputId": "f8539bd9-e2d5-464e-f493-69962474bb7d"
      },
      "execution_count": 26,
      "outputs": [
        {
          "output_type": "stream",
          "name": "stdout",
          "text": [
            "enter a number:15\n",
            "enter a number:21\n",
            "result: 0.7142857142857143\n",
            "enter a number:215\n",
            "valid\n",
            "enter a number to divide 15:15\n",
            "result: 1.0\n",
            "done\n"
          ]
        }
      ]
    },
    {
      "cell_type": "code",
      "source": [
        "import random\n",
        "print('Five random numbers')\n",
        "for i in range(5):\n",
        "    print(random.randint(1,100))"
      ],
      "metadata": {
        "colab": {
          "base_uri": "https://localhost:8080/"
        },
        "id": "bY2sYUiLx33h",
        "outputId": "c971e6c0-01f5-40f4-c108-50398bca8e43"
      },
      "execution_count": 5,
      "outputs": [
        {
          "output_type": "stream",
          "name": "stdout",
          "text": [
            "Five random numbers\n",
            "74\n",
            "70\n",
            "77\n",
            "98\n",
            "34\n"
          ]
        }
      ]
    },
    {
      "cell_type": "code",
      "source": [
        "num=random.randint(1,100)\n",
        "flag=True\n",
        "for i in range(2,int(num/2) +1):\n",
        "    if(num%i==0):\n",
        "        flag=False\n",
        "        break\n",
        "if(flag==True):\n",
        "    print(num,' is prime')\n",
        "else:\n",
        "    print(num,' is not prime')"
      ],
      "metadata": {
        "colab": {
          "base_uri": "https://localhost:8080/"
        },
        "id": "in-jxpIWyQ74",
        "outputId": "899f729c-dd25-4ed6-cd25-9f54d9fd7d29"
      },
      "execution_count": 6,
      "outputs": [
        {
          "output_type": "stream",
          "name": "stdout",
          "text": [
            "90  is not prime\n"
          ]
        }
      ]
    },
    {
      "cell_type": "code",
      "source": [
        "chance=int(input('Enter 0 to roll a die:'))\n",
        "if(chance==0):\n",
        "    print('You got ',random.randint(1,6))"
      ],
      "metadata": {
        "colab": {
          "base_uri": "https://localhost:8080/"
        },
        "id": "obLZPinhyRmB",
        "outputId": "f6d53463-e4bc-4f86-8670-14b28a0005e4"
      },
      "execution_count": 7,
      "outputs": [
        {
          "name": "stdout",
          "output_type": "stream",
          "text": [
            "Enter 0 to roll a die:3\n"
          ]
        }
      ]
    },
    {
      "cell_type": "code",
      "source": [
        "list=[100,99,98,97,96,95,94,93,92,91,90]\n",
        "random.shuffle(list)\n",
        "print('Shuffled: ',list)"
      ],
      "metadata": {
        "colab": {
          "base_uri": "https://localhost:8080/"
        },
        "id": "5M1fan9dyXVV",
        "outputId": "52954528-3ec6-47e3-e222-49f19e919308"
      },
      "execution_count": 8,
      "outputs": [
        {
          "output_type": "stream",
          "name": "stdout",
          "text": [
            "Shuffled:  [98, 96, 95, 100, 94, 99, 90, 93, 91, 97, 92]\n"
          ]
        }
      ]
    },
    {
      "cell_type": "code",
      "source": [
        "number=random.choice(list)\n",
        "print('Number randomly chosen: ',number)"
      ],
      "metadata": {
        "id": "kkBELnj1yXvS"
      },
      "execution_count": null,
      "outputs": []
    },
    {
      "cell_type": "code",
      "source": [
        "list_of_chars=\"ABCDEFGHIJKLMNOPQRSTUVWXYZabcdefghijklmnopqrstuvwxyz1234567890!@#$%^&*()\"\n",
        "length=int(input('Enter the length of password:'))\n",
        "password=\"\"\n",
        "for i in range(length):\n",
        "    password=password+random.choice(list_of_chars)\n",
        "print(\"Your password is: \",password)"
      ],
      "metadata": {
        "id": "xIX8XSmjyX3z"
      },
      "execution_count": null,
      "outputs": []
    },
    {
      "cell_type": "code",
      "source": [
        "Card=[\"hearts\",\"diamond\",\"clubs\",\"spades\"]\n",
        "Rank=[2,3,4,5,6,7,8,9,0,\"Jack\",\"Queen\",\"King\",\"Ace\"]\n",
        "card=random.choice(Card)\n",
        "rank=random.choice(Rank)\n",
        "print(rank,\" of \",card)"
      ],
      "metadata": {
        "id": "XMPRR5ePyX_5"
      },
      "execution_count": null,
      "outputs": []
    },
    {
      "cell_type": "code",
      "source": [
        "import sys\n",
        "if len(sys.argv)!=3:\n",
        "  print(\"print provide two number :\")\n",
        "else:\n",
        "  try:\n",
        "    num1=float(sys.argv[1])\n",
        "    num2=float(sys.argv[2])\n",
        "\n",
        "    result=num1+num2\n",
        "\n",
        "    print(\"\")"
      ],
      "metadata": {
        "id": "6zgEaBSHQ-8p"
      },
      "execution_count": null,
      "outputs": []
    },
    {
      "cell_type": "code",
      "source": [
        "import sys\n",
        "if len(sys.argv)=2:\n",
        "  print(\"please provide a string :\")\n"
      ],
      "metadata": {
        "colab": {
          "base_uri": "https://localhost:8080/",
          "height": 106
        },
        "id": "MD92a9Vukmgj",
        "outputId": "8a36dfe0-f359-4c76-cc8a-d54ed0fbd2ce"
      },
      "execution_count": 1,
      "outputs": [
        {
          "output_type": "error",
          "ename": "SyntaxError",
          "evalue": "cannot assign to function call here. Maybe you meant '==' instead of '='? (<ipython-input-1-5de06268a9f5>, line 2)",
          "traceback": [
            "\u001b[0;36m  File \u001b[0;32m\"<ipython-input-1-5de06268a9f5>\"\u001b[0;36m, line \u001b[0;32m2\u001b[0m\n\u001b[0;31m    if len(sys.argv)=2:\u001b[0m\n\u001b[0m       ^\u001b[0m\n\u001b[0;31mSyntaxError\u001b[0m\u001b[0;31m:\u001b[0m cannot assign to function call here. Maybe you meant '==' instead of '='?\n"
          ]
        }
      ]
    },
    {
      "cell_type": "code",
      "source": [
        "import math\n",
        "from datetime import datetime\n",
        "\n",
        "print(math.cos(0))\n",
        "print(math.cos(math.pi))\n",
        "print(math.fabs(-3))\n",
        "\n",
        "a=int(input(\"enter a number:\"))\n",
        "b=math.pow(a,1/2)\n",
        "print(\"square root of\",a,\"is:\",b)\n",
        "\n",
        "\n",
        "print(\"\\n\\n\")\n",
        "now=datetime.now()\n",
        "date=now.strftime(\"%d/%m/%y\")\n",
        "time=now.strftime(\"%h/%m/%S\")\n",
        "print(\"current data:\",date)\n",
        "print(\"current time:\",time)\n",
        "\n",
        "print(\"\\n\\n\")\n",
        "import os\n",
        "print(\"list of files:\",os.listdir())\n"
      ],
      "metadata": {
        "colab": {
          "base_uri": "https://localhost:8080/"
        },
        "id": "ECfqHGrdlI0B",
        "outputId": "d78a71a4-df8d-4b4f-9780-91c8134de65e"
      },
      "execution_count": 2,
      "outputs": [
        {
          "output_type": "stream",
          "name": "stdout",
          "text": [
            "1.0\n",
            "-1.0\n",
            "3.0\n",
            "enter a number:3\n",
            "square root of 3 is: 1.7320508075688772\n",
            "\n",
            "\n",
            "\n",
            "current data: 18/01/25\n",
            "current time: Jan/01/28\n",
            "\n",
            "\n",
            "\n",
            "list of files: ['.config', 'sample_data']\n"
          ]
        }
      ]
    }
  ]
}