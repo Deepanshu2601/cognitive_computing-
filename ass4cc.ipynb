{
  "nbformat": 4,
  "nbformat_minor": 0,
  "metadata": {
    "colab": {
      "provenance": [],
      "authorship_tag": "ABX9TyPHj7ruJ1q9ubsSxzpKzrPJ",
      "include_colab_link": true
    },
    "kernelspec": {
      "name": "python3",
      "display_name": "Python 3"
    },
    "language_info": {
      "name": "python"
    }
  },
  "cells": [
    {
      "cell_type": "markdown",
      "metadata": {
        "id": "view-in-github",
        "colab_type": "text"
      },
      "source": [
        "<a href=\"https://colab.research.google.com/github/Deepanshu2601/cognitive_computing-/blob/main/ass4cc.ipynb\" target=\"_parent\"><img src=\"https://colab.research.google.com/assets/colab-badge.svg\" alt=\"Open In Colab\"/></a>"
      ]
    },
    {
      "cell_type": "code",
      "execution_count": 3,
      "metadata": {
        "colab": {
          "base_uri": "https://localhost:8080/"
        },
        "id": "Ln9pRqp_56Bc",
        "outputId": "7f2ea3fd-f50e-4990-858e-c3ffd188fb94"
      },
      "outputs": [
        {
          "output_type": "stream",
          "name": "stdout",
          "text": [
            "[1 2 3 4 5]\n",
            "[3 4 5 6 7]\n",
            "[ 3  6  9 12 15]\n",
            "[0.5 1.  1.5 2.  2.5]\n"
          ]
        }
      ],
      "source": [
        "\n",
        "import numpy as np\n",
        "a=np.array([1,2,3,4,5]);\n",
        "print(a)\n",
        "print(a+2)\n",
        "print(a*3)\n",
        "print(a/2)"
      ]
    },
    {
      "cell_type": "code",
      "source": [
        "a = a[ ::-1]\n",
        "a"
      ],
      "metadata": {
        "colab": {
          "base_uri": "https://localhost:8080/"
        },
        "id": "ykPPHg-y6CNr",
        "outputId": "9955032c-6e41-4f0a-cb4e-6a4677d2d539"
      },
      "execution_count": 4,
      "outputs": [
        {
          "output_type": "execute_result",
          "data": {
            "text/plain": [
              "array([5, 4, 3, 2, 1])"
            ]
          },
          "metadata": {},
          "execution_count": 4
        }
      ]
    },
    {
      "cell_type": "code",
      "source": [
        "arr=np.array([[10,20,30],[40,50,60],[70,80,90]])\n",
        "print(arr)\n",
        "print(arr[0][1])\n",
        "print(arr[2][0])"
      ],
      "metadata": {
        "colab": {
          "base_uri": "https://localhost:8080/"
        },
        "id": "-fCrdaBp6gLm",
        "outputId": "7fdb59f8-1a0f-4cf2-8650-fc256ed97720"
      },
      "execution_count": 6,
      "outputs": [
        {
          "output_type": "stream",
          "name": "stdout",
          "text": [
            "[[10 20 30]\n",
            " [40 50 60]\n",
            " [70 80 90]]\n",
            "20\n",
            "70\n"
          ]
        }
      ]
    },
    {
      "cell_type": "code",
      "source": [
        "x=np.array(np.linspace(10,100,25))\n",
        "print(x)\n",
        "print(x.shape)\n",
        "print(x.size)\n",
        "print(x.dtype)\n",
        "print(x.itemsize*x.size)\n",
        "print(x.reshape(5,5))\n",
        "print(x.reshape(5,5).T)"
      ],
      "metadata": {
        "colab": {
          "base_uri": "https://localhost:8080/"
        },
        "id": "sQ6axOEi6xps",
        "outputId": "94e3d3ad-156c-422d-8dd0-89afe9eebcf3"
      },
      "execution_count": 7,
      "outputs": [
        {
          "output_type": "stream",
          "name": "stdout",
          "text": [
            "[ 10.    13.75  17.5   21.25  25.    28.75  32.5   36.25  40.    43.75\n",
            "  47.5   51.25  55.    58.75  62.5   66.25  70.    73.75  77.5   81.25\n",
            "  85.    88.75  92.5   96.25 100.  ]\n",
            "(25,)\n",
            "25\n",
            "float64\n",
            "200\n",
            "[[ 10.    13.75  17.5   21.25  25.  ]\n",
            " [ 28.75  32.5   36.25  40.    43.75]\n",
            " [ 47.5   51.25  55.    58.75  62.5 ]\n",
            " [ 66.25  70.    73.75  77.5   81.25]\n",
            " [ 85.    88.75  92.5   96.25 100.  ]]\n",
            "[[ 10.    28.75  47.5   66.25  85.  ]\n",
            " [ 13.75  32.5   51.25  70.    88.75]\n",
            " [ 17.5   36.25  55.    73.75  92.5 ]\n",
            " [ 21.25  40.    58.75  77.5   96.25]\n",
            " [ 25.    43.75  62.5   81.25 100.  ]]\n"
          ]
        }
      ]
    },
    {
      "cell_type": "code",
      "source": [
        "ucs420_deepanshu=np.array([[10,20,30,40],[50,60,70,80],[90,15,20,35]])\n",
        "print(ucs420_deepanshu)\n",
        "print(np.mean(ucs420_deepanshu))\n",
        "print(np.median(ucs420_deepanshu))\n",
        "print(np.max(ucs420_deepanshu))\n",
        "print(np.min(ucs420_deepanshu))\n",
        "print(np.unique(ucs420_deepanshu))\n",
        "\n",
        "reshape_ucs420_deepanshu=np.reshape(ucs420_deepanshu,(4,3))\n",
        "print(reshape_ucs420_deepanshu)\n",
        "\n",
        "resize_ucs420_deepanshu=np.resize(ucs420_deepanshu,(2,3))\n",
        "print(resize_ucs420_deepanshu)"
      ],
      "metadata": {
        "colab": {
          "base_uri": "https://localhost:8080/"
        },
        "id": "_RFO_6iy68nc",
        "outputId": "14f214ef-5ef1-43e7-fb17-deeebb995745"
      },
      "execution_count": 9,
      "outputs": [
        {
          "output_type": "stream",
          "name": "stdout",
          "text": [
            "[[10 20 30 40]\n",
            " [50 60 70 80]\n",
            " [90 15 20 35]]\n",
            "43.333333333333336\n",
            "37.5\n",
            "90\n",
            "10\n",
            "[10 15 20 30 35 40 50 60 70 80 90]\n",
            "[[10 20 30]\n",
            " [40 50 60]\n",
            " [70 80 90]\n",
            " [15 20 35]]\n",
            "[[10 20 30]\n",
            " [40 50 60]]\n"
          ]
        }
      ]
    }
  ]
}