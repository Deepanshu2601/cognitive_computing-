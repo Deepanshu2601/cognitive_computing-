{
  "nbformat": 4,
  "nbformat_minor": 0,
  "metadata": {
    "colab": {
      "provenance": [],
      "authorship_tag": "ABX9TyNZEBBRCpvU8tBbNGiUoPQL",
      "include_colab_link": true
    },
    "kernelspec": {
      "name": "python3",
      "display_name": "Python 3"
    },
    "language_info": {
      "name": "python"
    }
  },
  "cells": [
    {
      "cell_type": "markdown",
      "metadata": {
        "id": "view-in-github",
        "colab_type": "text"
      },
      "source": [
        "<a href=\"https://colab.research.google.com/github/Deepanshu2601/cognitive_computing-/blob/main/assi2.ipynb\" target=\"_parent\"><img src=\"https://colab.research.google.com/assets/colab-badge.svg\" alt=\"Open In Colab\"/></a>"
      ]
    },
    {
      "cell_type": "code",
      "execution_count": 2,
      "metadata": {
        "colab": {
          "base_uri": "https://localhost:8080/"
        },
        "id": "YwoxL8etzWMs",
        "outputId": "2c808487-d3ab-4cbe-e875-573594488837"
      },
      "outputs": [
        {
          "output_type": "stream",
          "name": "stdout",
          "text": [
            "[10, 20, 30, 40, 50, 60, 70, 80, 200, 300]\n",
            "[20, 40, 50, 60, 70, 80, 200, 300]\n",
            "[20, 40, 50, 60, 70, 80, 200, 300]\n",
            "[300, 200, 80, 70, 60, 50, 40, 20]\n"
          ]
        }
      ],
      "source": [
        "x=[10,20,30,40,50,60,70,80]\n",
        "x.append(200)\n",
        "x.append(300)\n",
        "print(x)\n",
        "\n",
        "x.remove(10)\n",
        "x.remove(30)\n",
        "print(x)\n",
        "\n",
        "x.sort()\n",
        "print(x)\n",
        "\n",
        "x.sort(reverse=True)\n",
        "print(x)"
      ]
    },
    {
      "cell_type": "code",
      "source": [
        "x=(45,89.5,76,45.4,89,92,58,45)\n",
        "print('Max',max(x))\n",
        "print('Index:',x.index(max(x)))\n",
        "\n",
        "print('\\n')\n",
        "print('Min',min(x))\n",
        "print('Count:',x.count(min(x)))\n",
        "print('\\n')\n",
        "\n",
        "L=list(reversed(x))\n",
        "print('Reversed tuple as List:',L)\n",
        "\n",
        "\n",
        "num=eval(input('Enter a number to check:'))\n",
        "\n",
        "if(num in x):\n",
        "    print('Present at:',x.index(num))\n",
        "else:\n",
        "    print(num,' is not in tuple')"
      ],
      "metadata": {
        "colab": {
          "base_uri": "https://localhost:8080/"
        },
        "id": "eM8sPb0Fz3Tv",
        "outputId": "c7095605-224a-43f0-ad00-d0a0c18c1094"
      },
      "execution_count": 4,
      "outputs": [
        {
          "output_type": "stream",
          "name": "stdout",
          "text": [
            "Max 92\n",
            "Index: 5\n",
            "\n",
            "\n",
            "Min 45\n",
            "Count: 2\n",
            "\n",
            "\n",
            "Reversed tuple as List: [45, 58, 92, 89, 45.4, 76, 89.5, 45]\n",
            "Enter a number to check:45\n",
            "Present at: 0\n"
          ]
        }
      ]
    },
    {
      "cell_type": "code",
      "source": [
        "import random\n",
        "\n",
        "def isPrime(a):\n",
        "    for i in range(2,int(a/2) +1):\n",
        "        if(a%i==0):\n",
        "            return False\n",
        "\n",
        "    return True\n",
        "\n",
        "\n",
        "L=[]\n",
        "for i in range(100):\n",
        "    L.append(random.randint(100,900))\n",
        "\n",
        "count_prime=0\n",
        "count_even=0\n",
        "count_odd=0\n",
        "\n",
        "for i in L:\n",
        "\n",
        "    if(i%2==0):\n",
        "        count_even=count_even+1\n",
        "    else:\n",
        "        count_odd=count_odd+1\n",
        "\n",
        "    if(isPrime(i)):\n",
        "        count_prime=count_prime+1\n",
        "\n",
        "print('Number of even:  ',count_even)\n",
        "print('Number of odd:   ',count_odd)\n",
        "print('Number of prime: ',count_prime)"
      ],
      "metadata": {
        "colab": {
          "base_uri": "https://localhost:8080/"
        },
        "id": "8NqIcYno1Six",
        "outputId": "a46b6b29-7734-41e0-9d54-a2229215df35"
      },
      "execution_count": 5,
      "outputs": [
        {
          "output_type": "stream",
          "name": "stdout",
          "text": [
            "Number of even:   45\n",
            "Number of odd:    55\n",
            "Number of prime:  15\n"
          ]
        }
      ]
    },
    {
      "cell_type": "code",
      "source": [
        "A={34,56,78,90}\n",
        "B={78,45,90,23}\n",
        "C=set()\n",
        "\n",
        "C=A|B\n",
        "\n",
        "print('Union: ',C)\n",
        "\n",
        "\n",
        "D=set()\n",
        "D=A&B\n",
        "\n",
        "print('Intersection: ',D)\n",
        "\n",
        "\n",
        "E=set()\n",
        "E=A.symmetric_difference(B)\n",
        "\n",
        "print('A-B UNION B-A: ',E)\n",
        "\n",
        "\n",
        "\n",
        "if(A.issubset(B) or B.issuperset(A)):\n",
        "    print('A is subset of B')\n",
        "else:\n",
        "    print('A is not a subset of B')\n",
        "\n",
        "\n",
        "\n",
        "num=int(input('Enter a number to remove from A: '))\n",
        "\n",
        "if(num in A):\n",
        "    A.discard(num)\n",
        "else:\n",
        "    print(num,' is not present in A')\n",
        "print('A: ',A)"
      ],
      "metadata": {
        "colab": {
          "base_uri": "https://localhost:8080/"
        },
        "id": "S9rpLSoT1YFM",
        "outputId": "718eebb1-fc4d-4f67-a624-2aa45e1b4ccc"
      },
      "execution_count": 6,
      "outputs": [
        {
          "output_type": "stream",
          "name": "stdout",
          "text": [
            "Union:  {34, 45, 78, 23, 56, 90}\n",
            "Intersection:  {90, 78}\n",
            "A-B UNION B-A:  {34, 45, 23, 56}\n",
            "A is not a subset of B\n",
            "Enter a number to remove from A: 14\n",
            "14  is not present in A\n",
            "A:  {56, 34, 90, 78}\n"
          ]
        }
      ]
    },
    {
      "cell_type": "code",
      "source": [
        "sample_dict={\n",
        "    \"name\"  : \"Kelly\",\n",
        "    \"age:\"  : 25,\n",
        "    \"salary\":8000,\n",
        "    \"city\"  :\"New york\"\n",
        "}\n",
        "\n",
        "print(sample_dict)\n",
        "sample_dict['location']=sample_dict.pop('city')\n",
        "print(sample_dict)"
      ],
      "metadata": {
        "colab": {
          "base_uri": "https://localhost:8080/"
        },
        "id": "aQh5a2742F70",
        "outputId": "6e05d968-dd30-4c01-93d5-e21dd16abf3a"
      },
      "execution_count": 7,
      "outputs": [
        {
          "output_type": "stream",
          "name": "stdout",
          "text": [
            "{'name': 'Kelly', 'age:': 25, 'salary': 8000, 'city': 'New york'}\n",
            "{'name': 'Kelly', 'age:': 25, 'salary': 8000, 'location': 'New york'}\n"
          ]
        }
      ]
    }
  ]
}